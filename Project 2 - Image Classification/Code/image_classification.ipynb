{
 "cells": [
  {
   "cell_type": "markdown",
   "metadata": {},
   "source": [
    "# Image Classification with PyTorch"
   ]
  },
  {
   "cell_type": "markdown",
   "metadata": {},
   "source": [
    "## Data loading\n"
   ]
  },
  {
   "cell_type": "code",
   "execution_count": 1,
   "metadata": {},
   "outputs": [],
   "source": [
    "import numpy as np\n",
    "import matplotlib.pyplot as plt\n",
    "\n",
    "import torch\n",
    "import torch.nn as nn\n",
    "import torch.nn.functional as F\n",
    "import torch.optim as optim\n",
    "from torch.utils.data import DataLoader\n",
    "import torchvision\n",
    "from torchvision import datasets, transforms"
   ]
  },
  {
   "cell_type": "code",
   "execution_count": 2,
   "metadata": {},
   "outputs": [],
   "source": [
    "# torchvision contains convinience functions for popular datasets\n",
    "ds_train = datasets.MNIST('data', train=True, download=True)"
   ]
  },
  {
   "cell_type": "markdown",
   "metadata": {},
   "source": [
    "Each sample is a 28x28 image"
   ]
  },
  {
   "cell_type": "code",
   "execution_count": 3,
   "metadata": {},
   "outputs": [
    {
     "name": "stdout",
     "output_type": "stream",
     "text": [
      "(<PIL.Image.Image image mode=L size=28x28 at 0x10722B1F0>, 5)\n"
     ]
    },
    {
     "data": {
      "image/png": "[encoded data removed]",
      "text/plain": [
       "<PIL.Image.Image image mode=L size=120x120>"
      ]
     },
     "execution_count": 3,
     "metadata": {},
     "output_type": "execute_result"
    }
   ],
   "source": [
    "# if we index this dataset, we get a single data point: a PIL image and an Integer\n",
    "print(ds_train[0])\n",
    "ds_train[0][0].resize((120,120))"
   ]
  },
  {
   "cell_type": "markdown",
   "metadata": {},
   "source": [
    "Let's transform the data to something that our Pytorch models will understand\n",
    "for this purpose, we can supply a transform function to the datase"
   ]
  },
  {
   "cell_type": "code",
   "execution_count": 4,
   "metadata": {},
   "outputs": [],
   "source": [
    "transform = transforms.Compose([\n",
    "    transforms.ToTensor(),\n",
    "])\n",
    "ds_train = datasets.MNIST('data', train=True, download=True, transform=transform)"
   ]
  },
  {
   "cell_type": "markdown",
   "metadata": {},
   "source": [
    "The image is now a `torch.Tensor`"
   ]
  },
  {
   "cell_type": "code",
   "execution_count": 5,
   "metadata": {},
   "outputs": [
    {
     "data": {
      "text/plain": [
       "torch.Tensor"
      ]
     },
     "execution_count": 5,
     "metadata": {},
     "output_type": "execute_result"
    }
   ],
   "source": [
    "type(ds_train[0][0])"
   ]
  },
  {
   "cell_type": "markdown",
   "metadata": {},
   "source": [
    "The normalization is something you learned about in the lecture. Normalizing with $\\mu=0, \\sigma=1$ corresponds to no normalization. Let's compute the proper normalization constants!"
   ]
  },
  {
   "cell_type": "code",
   "execution_count": 6,
   "metadata": {},
   "outputs": [],
   "source": [
    "# lets get only the images \n",
    "ims_train = ds_train.data\n",
    "ims_train = ims_train.float() / 255."
   ]
  },
  {
   "cell_type": "code",
   "execution_count": 7,
   "metadata": {},
   "outputs": [],
   "source": [
    "#########################################################################\n",
    "# TODO: calculate the mean and std of MNIST images\n",
    "# hint: to look for operations on pytorch tensor, refer to the official PyTorch docs \n",
    "# https://pytorch.org/docs/stable/\n",
    "#########################################################################\n",
    "mu = ims_train.mean()\n",
    "std = ims_train.std()"
   ]
  },
  {
   "cell_type": "markdown",
   "metadata": {},
   "source": [
    "We normalize the data as below."
   ]
  },
  {
   "cell_type": "code",
   "execution_count": 8,
   "metadata": {},
   "outputs": [],
   "source": [
    "transform = transforms.Compose([\n",
    "    transforms.ToTensor(),\n",
    "    transforms.Normalize(mu, std)\n",
    "])\n",
    "ds_train = datasets.MNIST('data', train=True, download=True, transform=transform)\n",
    "ds_test = datasets.MNIST('data', train=False, download=True, transform=transform)"
   ]
  },
  {
   "cell_type": "code",
   "execution_count": 9,
   "metadata": {},
   "outputs": [
    {
     "data": {
      "text/plain": [
       "(tensor(-0.4241), tensor(2.8215))"
      ]
     },
     "execution_count": 9,
     "metadata": {},
     "output_type": "execute_result"
    }
   ],
   "source": [
    "ds_train[0][0].min(), ds_train[0][0].max()"
   ]
  },
  {
   "cell_type": "markdown",
   "metadata": {},
   "source": [
    "Next, we want to receive mini-batches, not only single data points.\n",
    "We use PyTorch's DataLoader class. Build a dataloader with a batch size of 64 and 4 workers (number of subprocess that peform the dataloading). Important: you need to shuffle the training data, not the test data.\n",
    "\n",
    "**NOTE**: if you encounter some unexpected errors in data loading, try setting `NUM_WORKERS = 0`"
   ]
  },
  {
   "cell_type": "code",
   "execution_count": 10,
   "metadata": {},
   "outputs": [],
   "source": [
    "BATCH_SIZE = 64\n",
    "NUM_WORKERS = 4\n",
    "#########################################################################\n",
    "# TODO: Build a dataloader for both train and test data.\n",
    "#########################################################################\n",
    "dl_train = DataLoader(ds_train, batch_size=BATCH_SIZE, shuffle=True, num_workers=NUM_WORKERS)\n",
    "dl_test = DataLoader(ds_test, batch_size=BATCH_SIZE, shuffle=False, num_workers=NUM_WORKERS)"
   ]
  },
  {
   "cell_type": "markdown",
   "metadata": {},
   "source": [
    "## MLP in Pytorch\n",
    "\n",
    "Ok, the dataloading works. Let's build our model, PyTorch makes this very easy. We will build replicate the model from our last exercises. However, now, we add another variable called `nLayer` that indicates how many linear layers that in your network. Please adapt your code from last exercise accordingly to allow different number of layers."
   ]
  },
  {
   "cell_type": "code",
   "execution_count": 11,
   "metadata": {},
   "outputs": [],
   "source": [
    "# These are the parameters to be used\n",
    "nInput = 784\n",
    "nOutput = 10\n",
    "nLayer = 2\n",
    "nHidden = 16\n",
    "act_fn = nn.ReLU()"
   ]
  },
  {
   "cell_type": "code",
   "execution_count": 12,
   "metadata": {},
   "outputs": [],
   "source": [
    "#########################################################################\n",
    "# TODO: Implement the __init__ of the MLP class. \n",
    "# insert the activation after every linear layer. Important: the number of \n",
    "# hidden layers should be variable!\n",
    "#########################################################################\n",
    "\n",
    "class MLP(nn.Module):\n",
    "    def __init__(self, nInput, nOutput, nLayer, nHidden, act_fn):\n",
    "        super(MLP, self).__init__()\n",
    "        layers = [] \n",
    "        \n",
    "        for i in range(nLayer):\n",
    "            if i == 0:\n",
    "                layers.append(nn.Linear(nInput, nHidden))\n",
    "                layers.append(act_fn)\n",
    "\n",
    "            elif 0 < i and i < nLayer-1:\n",
    "                layers.append(nn.Linear(nHidden, nHidden))\n",
    "                layers.append(act_fn)\n",
    "            else:\n",
    "                layers.append(nn.Linear(nHidden, nOutput))\n",
    "            \n",
    "        \n",
    "        self.model = nn.Sequential(*layers)\n",
    "\n",
    "    def forward(self, x):\n",
    "        x = torch.flatten(x, 1)\n",
    "        return self.model(x)"
   ]
  },
  {
   "cell_type": "code",
   "execution_count": 13,
   "metadata": {
    "scrolled": true
   },
   "outputs": [
    {
     "data": {
      "text/plain": [
       "torch.Size([1, 10])"
      ]
     },
     "execution_count": 13,
     "metadata": {},
     "output_type": "execute_result"
    }
   ],
   "source": [
    "# Let's test if the forward pass works\n",
    "# this should print torch.Size([1, 10])\n",
    "t = torch.randn(1,1,28,28)\n",
    "mlp = MLP(nInput, nOutput, nLayer, nHidden, act_fn)\n",
    "mlp(t).shape"
   ]
  },
  {
   "cell_type": "code",
   "execution_count": 14,
   "metadata": {},
   "outputs": [
    {
     "data": {
      "text/plain": [
       "MLP(\n",
       "  (model): Sequential(\n",
       "    (0): Linear(in_features=784, out_features=16, bias=True)\n",
       "    (1): ReLU()\n",
       "    (2): Linear(in_features=16, out_features=10, bias=True)\n",
       "  )\n",
       ")"
      ]
     },
     "execution_count": 14,
     "metadata": {},
     "output_type": "execute_result"
    }
   ],
   "source": [
    "mlp"
   ]
  },
  {
   "cell_type": "markdown",
   "metadata": {},
   "source": [
    "We already implemented the test function for you"
   ]
  },
  {
   "cell_type": "code",
   "execution_count": 15,
   "metadata": {},
   "outputs": [],
   "source": [
    "def test(model, dl_test, device='cpu'):\n",
    "    model.eval()\n",
    "    test_loss = 0\n",
    "    correct = 0\n",
    "    with torch.no_grad():\n",
    "        for data, target in dl_test:\n",
    "            data, target = data.to(device), target.to(device)\n",
    "            output = model(data)\n",
    "            test_loss += F.cross_entropy(output, target, reduction='sum').item()  # sum up batch loss\n",
    "            pred = output.argmax(dim=1, keepdim=True)  # get the index of the max log-probability\n",
    "            correct += pred.eq(target.view_as(pred)).sum().item()\n",
    "\n",
    "    test_loss /= len(dl_test.dataset)\n",
    "\n",
    "    print('\\nTest set: Average loss: {:.4f}, Accuracy: {}/{} ({:.3f}%)\\n'.format(\n",
    "        test_loss, correct, len(dl_test.dataset),\n",
    "        100. * correct / len(dl_test.dataset)))"
   ]
  },
  {
   "cell_type": "markdown",
   "metadata": {},
   "source": [
    "Now you only need to implement the training and you are good to go"
   ]
  },
  {
   "cell_type": "code",
   "execution_count": 16,
   "metadata": {},
   "outputs": [],
   "source": [
    "#########################################################################\n",
    "# TODO: Implement the missing part of the training function. As a loss function we want to use cross entropy\n",
    "# It can be called with F.cross_entropy().\n",
    "# Hint: Pass through the model -> Backpropagate gradients -> Take gradient step\n",
    "#########################################################################\n",
    "\n",
    "def train(model, dl_train, optimizer, epoch, log_interval=100, device='cpu'):\n",
    "    model.train()\n",
    "    correct = 0\n",
    "    for batch_idx, (data, target) in enumerate(dl_train):\n",
    "        data, target = data.to(device), target.to(device)\n",
    "        \n",
    "        # first we need to zero the gradient, otherwise PyTorch would accumulate them\n",
    "        optimizer.zero_grad()         \n",
    "        \n",
    "        output = model(data)\n",
    "        loss = F.cross_entropy(output, target)\n",
    "        loss.backward()\n",
    "        optimizer.step()\n",
    "\n",
    "        # stats\n",
    "        pred = output.argmax(dim=1, keepdim=True)  # get the index of the max log-probability\n",
    "        correct += pred.eq(target.view_as(pred)).sum().item()\n",
    "\n",
    "        if batch_idx % log_interval == 0:\n",
    "            print('Train Epoch: {} [{}/{} ({:.0f}%)]\\tLoss: {:.6f}'.format(\n",
    "                epoch, batch_idx * len(data), len(dl_train.dataset),\n",
    "                100. * batch_idx / len(dl_train), loss.item()))\n",
    "\n",
    "    print('\\nTrain set: Average loss: {:.4f}, Accuracy: {}/{} ({:.1f}%)\\n'.format(\n",
    "        loss, correct, len(dl_train.dataset),\n",
    "        100. * correct / len(dl_train.dataset)))"
   ]
  },
  {
   "cell_type": "markdown",
   "metadata": {},
   "source": [
    "Ok, the setup is almost done. The onoly missing part is the optimizer. We are going to use Adam."
   ]
  },
  {
   "cell_type": "code",
   "execution_count": 17,
   "metadata": {},
   "outputs": [],
   "source": [
    "# reinitialize the mlp, so we can play with parameters right here\n",
    "mlp = MLP(nInput, nOutput, nLayer, nHidden, act_fn)\n",
    "optimizer = optim.Adam(mlp.parameters())"
   ]
  },
  {
   "cell_type": "code",
   "execution_count": 18,
   "metadata": {
    "scrolled": true
   },
   "outputs": [
    {
     "name": "stdout",
     "output_type": "stream",
     "text": [
      "Train Epoch: 1 [0/60000 (0%)]\tLoss: 2.369483\n",
      "Train Epoch: 1 [6400/60000 (11%)]\tLoss: 0.509770\n",
      "Train Epoch: 1 [12800/60000 (21%)]\tLoss: 0.350103\n",
      "Train Epoch: 1 [19200/60000 (32%)]\tLoss: 0.431955\n",
      "Train Epoch: 1 [25600/60000 (43%)]\tLoss: 0.217119\n",
      "Train Epoch: 1 [32000/60000 (53%)]\tLoss: 0.142378\n",
      "Train Epoch: 1 [38400/60000 (64%)]\tLoss: 0.449638\n",
      "Train Epoch: 1 [44800/60000 (75%)]\tLoss: 0.406789\n",
      "Train Epoch: 1 [51200/60000 (85%)]\tLoss: 0.222254\n",
      "Train Epoch: 1 [57600/60000 (96%)]\tLoss: 0.181584\n",
      "\n",
      "Train set: Average loss: 0.0609, Accuracy: 52877/60000 (88.1%)\n",
      "\n",
      "\n",
      "Test set: Average loss: 0.2634, Accuracy: 9229/10000 (92.290%)\n",
      "\n",
      "Train Epoch: 2 [0/60000 (0%)]\tLoss: 0.111357\n",
      "Train Epoch: 2 [6400/60000 (11%)]\tLoss: 0.329748\n",
      "Train Epoch: 2 [12800/60000 (21%)]\tLoss: 0.194505\n",
      "Train Epoch: 2 [19200/60000 (32%)]\tLoss: 0.183069\n",
      "Train Epoch: 2 [25600/60000 (43%)]\tLoss: 0.482379\n",
      "Train Epoch: 2 [32000/60000 (53%)]\tLoss: 0.169738\n",
      "Train Epoch: 2 [38400/60000 (64%)]\tLoss: 0.218945\n",
      "Train Epoch: 2 [44800/60000 (75%)]\tLoss: 0.199284\n",
      "Train Epoch: 2 [51200/60000 (85%)]\tLoss: 0.188454\n",
      "Train Epoch: 2 [57600/60000 (96%)]\tLoss: 0.248608\n",
      "\n",
      "Train set: Average loss: 0.0833, Accuracy: 55829/60000 (93.0%)\n",
      "\n",
      "\n",
      "Test set: Average loss: 0.2116, Accuracy: 9390/10000 (93.900%)\n",
      "\n",
      "Train Epoch: 3 [0/60000 (0%)]\tLoss: 0.159882\n",
      "Train Epoch: 3 [6400/60000 (11%)]\tLoss: 0.198158\n",
      "Train Epoch: 3 [12800/60000 (21%)]\tLoss: 0.171113\n",
      "Train Epoch: 3 [19200/60000 (32%)]\tLoss: 0.145165\n",
      "Train Epoch: 3 [25600/60000 (43%)]\tLoss: 0.265005\n",
      "Train Epoch: 3 [32000/60000 (53%)]\tLoss: 0.165688\n",
      "Train Epoch: 3 [38400/60000 (64%)]\tLoss: 0.213111\n",
      "Train Epoch: 3 [44800/60000 (75%)]\tLoss: 0.244521\n",
      "Train Epoch: 3 [51200/60000 (85%)]\tLoss: 0.079726\n",
      "Train Epoch: 3 [57600/60000 (96%)]\tLoss: 0.113447\n",
      "\n",
      "Train set: Average loss: 0.1378, Accuracy: 56464/60000 (94.1%)\n",
      "\n",
      "\n",
      "Test set: Average loss: 0.2036, Accuracy: 9410/10000 (94.100%)\n",
      "\n",
      "Train Epoch: 4 [0/60000 (0%)]\tLoss: 0.240109\n",
      "Train Epoch: 4 [6400/60000 (11%)]\tLoss: 0.211573\n",
      "Train Epoch: 4 [12800/60000 (21%)]\tLoss: 0.115035\n",
      "Train Epoch: 4 [19200/60000 (32%)]\tLoss: 0.239147\n",
      "Train Epoch: 4 [25600/60000 (43%)]\tLoss: 0.146490\n",
      "Train Epoch: 4 [32000/60000 (53%)]\tLoss: 0.202769\n",
      "Train Epoch: 4 [38400/60000 (64%)]\tLoss: 0.193325\n",
      "Train Epoch: 4 [44800/60000 (75%)]\tLoss: 0.254711\n",
      "Train Epoch: 4 [51200/60000 (85%)]\tLoss: 0.146938\n",
      "Train Epoch: 4 [57600/60000 (96%)]\tLoss: 0.132756\n",
      "\n",
      "Train set: Average loss: 0.0326, Accuracy: 56725/60000 (94.5%)\n",
      "\n",
      "\n",
      "Test set: Average loss: 0.1954, Accuracy: 9445/10000 (94.450%)\n",
      "\n",
      "Train Epoch: 5 [0/60000 (0%)]\tLoss: 0.334034\n",
      "Train Epoch: 5 [6400/60000 (11%)]\tLoss: 0.465568\n",
      "Train Epoch: 5 [12800/60000 (21%)]\tLoss: 0.122058\n",
      "Train Epoch: 5 [19200/60000 (32%)]\tLoss: 0.371286\n",
      "Train Epoch: 5 [25600/60000 (43%)]\tLoss: 0.294965\n",
      "Train Epoch: 5 [32000/60000 (53%)]\tLoss: 0.189889\n",
      "Train Epoch: 5 [38400/60000 (64%)]\tLoss: 0.156486\n",
      "Train Epoch: 5 [44800/60000 (75%)]\tLoss: 0.091267\n",
      "Train Epoch: 5 [51200/60000 (85%)]\tLoss: 0.112410\n",
      "Train Epoch: 5 [57600/60000 (96%)]\tLoss: 0.148485\n",
      "\n",
      "Train set: Average loss: 0.1564, Accuracy: 56972/60000 (95.0%)\n",
      "\n",
      "\n",
      "Test set: Average loss: 0.1913, Accuracy: 9453/10000 (94.530%)\n",
      "\n",
      "Train Epoch: 6 [0/60000 (0%)]\tLoss: 0.160368\n",
      "Train Epoch: 6 [6400/60000 (11%)]\tLoss: 0.218244\n",
      "Train Epoch: 6 [12800/60000 (21%)]\tLoss: 0.119017\n",
      "Train Epoch: 6 [19200/60000 (32%)]\tLoss: 0.111566\n",
      "Train Epoch: 6 [25600/60000 (43%)]\tLoss: 0.108645\n",
      "Train Epoch: 6 [32000/60000 (53%)]\tLoss: 0.087279\n",
      "Train Epoch: 6 [38400/60000 (64%)]\tLoss: 0.319459\n",
      "Train Epoch: 6 [44800/60000 (75%)]\tLoss: 0.194753\n",
      "Train Epoch: 6 [51200/60000 (85%)]\tLoss: 0.169985\n",
      "Train Epoch: 6 [57600/60000 (96%)]\tLoss: 0.132476\n",
      "\n",
      "Train set: Average loss: 0.1051, Accuracy: 57054/60000 (95.1%)\n",
      "\n",
      "\n",
      "Test set: Average loss: 0.1838, Accuracy: 9482/10000 (94.820%)\n",
      "\n",
      "Train Epoch: 7 [0/60000 (0%)]\tLoss: 0.251104\n",
      "Train Epoch: 7 [6400/60000 (11%)]\tLoss: 0.184865\n",
      "Train Epoch: 7 [12800/60000 (21%)]\tLoss: 0.283096\n",
      "Train Epoch: 7 [19200/60000 (32%)]\tLoss: 0.217926\n",
      "Train Epoch: 7 [25600/60000 (43%)]\tLoss: 0.186683\n",
      "Train Epoch: 7 [32000/60000 (53%)]\tLoss: 0.087296\n",
      "Train Epoch: 7 [38400/60000 (64%)]\tLoss: 0.299609\n",
      "Train Epoch: 7 [44800/60000 (75%)]\tLoss: 0.170672\n",
      "Train Epoch: 7 [51200/60000 (85%)]\tLoss: 0.123310\n",
      "Train Epoch: 7 [57600/60000 (96%)]\tLoss: 0.198202\n",
      "\n",
      "Train set: Average loss: 0.2787, Accuracy: 57216/60000 (95.4%)\n",
      "\n",
      "\n",
      "Test set: Average loss: 0.1765, Accuracy: 9501/10000 (95.010%)\n",
      "\n",
      "Train Epoch: 8 [0/60000 (0%)]\tLoss: 0.223937\n",
      "Train Epoch: 8 [6400/60000 (11%)]\tLoss: 0.227636\n",
      "Train Epoch: 8 [12800/60000 (21%)]\tLoss: 0.288306\n",
      "Train Epoch: 8 [19200/60000 (32%)]\tLoss: 0.158673\n",
      "Train Epoch: 8 [25600/60000 (43%)]\tLoss: 0.124015\n",
      "Train Epoch: 8 [32000/60000 (53%)]\tLoss: 0.172106\n",
      "Train Epoch: 8 [38400/60000 (64%)]\tLoss: 0.216230\n",
      "Train Epoch: 8 [44800/60000 (75%)]\tLoss: 0.169274\n",
      "Train Epoch: 8 [51200/60000 (85%)]\tLoss: 0.232669\n",
      "Train Epoch: 8 [57600/60000 (96%)]\tLoss: 0.129287\n",
      "\n",
      "Train set: Average loss: 0.0943, Accuracy: 57280/60000 (95.5%)\n",
      "\n",
      "\n",
      "Test set: Average loss: 0.1758, Accuracy: 9495/10000 (94.950%)\n",
      "\n",
      "Train Epoch: 9 [0/60000 (0%)]\tLoss: 0.122282\n",
      "Train Epoch: 9 [6400/60000 (11%)]\tLoss: 0.156368\n",
      "Train Epoch: 9 [12800/60000 (21%)]\tLoss: 0.205152\n",
      "Train Epoch: 9 [19200/60000 (32%)]\tLoss: 0.178301\n",
      "Train Epoch: 9 [25600/60000 (43%)]\tLoss: 0.322174\n",
      "Train Epoch: 9 [32000/60000 (53%)]\tLoss: 0.189279\n",
      "Train Epoch: 9 [38400/60000 (64%)]\tLoss: 0.250167\n",
      "Train Epoch: 9 [44800/60000 (75%)]\tLoss: 0.228418\n",
      "Train Epoch: 9 [51200/60000 (85%)]\tLoss: 0.212398\n",
      "Train Epoch: 9 [57600/60000 (96%)]\tLoss: 0.169237\n",
      "\n",
      "Train set: Average loss: 0.1492, Accuracy: 57389/60000 (95.6%)\n",
      "\n",
      "\n",
      "Test set: Average loss: 0.1777, Accuracy: 9503/10000 (95.030%)\n",
      "\n",
      "Train Epoch: 10 [0/60000 (0%)]\tLoss: 0.294036\n",
      "Train Epoch: 10 [6400/60000 (11%)]\tLoss: 0.185034\n",
      "Train Epoch: 10 [12800/60000 (21%)]\tLoss: 0.217878\n",
      "Train Epoch: 10 [19200/60000 (32%)]\tLoss: 0.085780\n",
      "Train Epoch: 10 [25600/60000 (43%)]\tLoss: 0.261550\n",
      "Train Epoch: 10 [32000/60000 (53%)]\tLoss: 0.085962\n",
      "Train Epoch: 10 [38400/60000 (64%)]\tLoss: 0.147488\n",
      "Train Epoch: 10 [44800/60000 (75%)]\tLoss: 0.205839\n",
      "Train Epoch: 10 [51200/60000 (85%)]\tLoss: 0.402835\n",
      "Train Epoch: 10 [57600/60000 (96%)]\tLoss: 0.080477\n",
      "\n",
      "Train set: Average loss: 0.1848, Accuracy: 57452/60000 (95.8%)\n",
      "\n",
      "\n",
      "Test set: Average loss: 0.1665, Accuracy: 9529/10000 (95.290%)\n",
      "\n",
      "Training is finished.\n"
     ]
    }
   ],
   "source": [
    "epochs = 10\n",
    "for epoch in range(1, epochs + 1):\n",
    "    train(mlp, dl_train, optimizer, epoch, log_interval=100)\n",
    "    test(mlp, dl_test)\n",
    "\n",
    "print ('Training is finished.')"
   ]
  },
  {
   "cell_type": "markdown",
   "metadata": {},
   "source": [
    "After training, you should see test accuracies of > **94%** - By they way, here we report test accuracy, the last exercises reported test error. Accuracy is simply (1 - error). Both metrics are commonly reported, there is no clear preference in literature for one or the other."
   ]
  },
  {
   "cell_type": "markdown",
   "metadata": {},
   "source": [
    "Now, can you do some parameter tuning to boost the test accuracy to > **97%**?"
   ]
  },
  {
   "cell_type": "code",
   "execution_count": 19,
   "metadata": {},
   "outputs": [
    {
     "name": "stdout",
     "output_type": "stream",
     "text": [
      "Train Epoch: 1 [0/60000 (0%)]\tLoss: 2.326623\n",
      "Train Epoch: 1 [6400/60000 (11%)]\tLoss: 0.543527\n",
      "Train Epoch: 1 [12800/60000 (21%)]\tLoss: 0.337065\n",
      "Train Epoch: 1 [19200/60000 (32%)]\tLoss: 0.309436\n",
      "Train Epoch: 1 [25600/60000 (43%)]\tLoss: 0.386995\n",
      "Train Epoch: 1 [32000/60000 (53%)]\tLoss: 0.225167\n",
      "Train Epoch: 1 [38400/60000 (64%)]\tLoss: 0.360030\n",
      "Train Epoch: 1 [44800/60000 (75%)]\tLoss: 0.209642\n",
      "Train Epoch: 1 [51200/60000 (85%)]\tLoss: 0.085382\n",
      "Train Epoch: 1 [57600/60000 (96%)]\tLoss: 0.193236\n",
      "\n",
      "Train set: Average loss: 0.5197, Accuracy: 53619/60000 (89.4%)\n",
      "\n",
      "\n",
      "Test set: Average loss: 0.1579, Accuracy: 9506/10000 (95.060%)\n",
      "\n",
      "Train Epoch: 2 [0/60000 (0%)]\tLoss: 0.453063\n",
      "Train Epoch: 2 [6400/60000 (11%)]\tLoss: 0.130805\n",
      "Train Epoch: 2 [12800/60000 (21%)]\tLoss: 0.162205\n",
      "Train Epoch: 2 [19200/60000 (32%)]\tLoss: 0.160346\n",
      "Train Epoch: 2 [25600/60000 (43%)]\tLoss: 0.225105\n",
      "Train Epoch: 2 [32000/60000 (53%)]\tLoss: 0.119566\n",
      "Train Epoch: 2 [38400/60000 (64%)]\tLoss: 0.136540\n",
      "Train Epoch: 2 [44800/60000 (75%)]\tLoss: 0.338032\n",
      "Train Epoch: 2 [51200/60000 (85%)]\tLoss: 0.074717\n",
      "Train Epoch: 2 [57600/60000 (96%)]\tLoss: 0.050509\n",
      "\n",
      "Train set: Average loss: 0.1409, Accuracy: 57405/60000 (95.7%)\n",
      "\n",
      "\n",
      "Test set: Average loss: 0.1125, Accuracy: 9664/10000 (96.640%)\n",
      "\n",
      "Train Epoch: 3 [0/60000 (0%)]\tLoss: 0.141851\n",
      "Train Epoch: 3 [6400/60000 (11%)]\tLoss: 0.078259\n",
      "Train Epoch: 3 [12800/60000 (21%)]\tLoss: 0.126313\n",
      "Train Epoch: 3 [19200/60000 (32%)]\tLoss: 0.149539\n",
      "Train Epoch: 3 [25600/60000 (43%)]\tLoss: 0.117007\n",
      "Train Epoch: 3 [32000/60000 (53%)]\tLoss: 0.067588\n",
      "Train Epoch: 3 [38400/60000 (64%)]\tLoss: 0.265260\n",
      "Train Epoch: 3 [44800/60000 (75%)]\tLoss: 0.154507\n",
      "Train Epoch: 3 [51200/60000 (85%)]\tLoss: 0.103691\n",
      "Train Epoch: 3 [57600/60000 (96%)]\tLoss: 0.109346\n",
      "\n",
      "Train set: Average loss: 0.0029, Accuracy: 58088/60000 (96.8%)\n",
      "\n",
      "\n",
      "Test set: Average loss: 0.1114, Accuracy: 9664/10000 (96.640%)\n",
      "\n",
      "Train Epoch: 4 [0/60000 (0%)]\tLoss: 0.080856\n",
      "Train Epoch: 4 [6400/60000 (11%)]\tLoss: 0.095580\n",
      "Train Epoch: 4 [12800/60000 (21%)]\tLoss: 0.071440\n",
      "Train Epoch: 4 [19200/60000 (32%)]\tLoss: 0.071876\n",
      "Train Epoch: 4 [25600/60000 (43%)]\tLoss: 0.045826\n",
      "Train Epoch: 4 [32000/60000 (53%)]\tLoss: 0.045062\n",
      "Train Epoch: 4 [38400/60000 (64%)]\tLoss: 0.068447\n",
      "Train Epoch: 4 [44800/60000 (75%)]\tLoss: 0.183631\n",
      "Train Epoch: 4 [51200/60000 (85%)]\tLoss: 0.021311\n",
      "Train Epoch: 4 [57600/60000 (96%)]\tLoss: 0.286415\n",
      "\n",
      "Train set: Average loss: 0.1199, Accuracy: 58408/60000 (97.3%)\n",
      "\n",
      "\n",
      "Test set: Average loss: 0.0994, Accuracy: 9701/10000 (97.010%)\n",
      "\n",
      "Train Epoch: 5 [0/60000 (0%)]\tLoss: 0.101466\n",
      "Train Epoch: 5 [6400/60000 (11%)]\tLoss: 0.150802\n",
      "Train Epoch: 5 [12800/60000 (21%)]\tLoss: 0.033297\n",
      "Train Epoch: 5 [19200/60000 (32%)]\tLoss: 0.106594\n",
      "Train Epoch: 5 [25600/60000 (43%)]\tLoss: 0.022053\n",
      "Train Epoch: 5 [32000/60000 (53%)]\tLoss: 0.052767\n",
      "Train Epoch: 5 [38400/60000 (64%)]\tLoss: 0.037974\n",
      "Train Epoch: 5 [44800/60000 (75%)]\tLoss: 0.046546\n",
      "Train Epoch: 5 [51200/60000 (85%)]\tLoss: 0.060040\n",
      "Train Epoch: 5 [57600/60000 (96%)]\tLoss: 0.029962\n",
      "\n",
      "Train set: Average loss: 0.0652, Accuracy: 58624/60000 (97.7%)\n",
      "\n",
      "\n",
      "Test set: Average loss: 0.1084, Accuracy: 9653/10000 (96.530%)\n",
      "\n",
      "Train Epoch: 6 [0/60000 (0%)]\tLoss: 0.046680\n",
      "Train Epoch: 6 [6400/60000 (11%)]\tLoss: 0.118003\n",
      "Train Epoch: 6 [12800/60000 (21%)]\tLoss: 0.008799\n",
      "Train Epoch: 6 [19200/60000 (32%)]\tLoss: 0.003652\n",
      "Train Epoch: 6 [25600/60000 (43%)]\tLoss: 0.136600\n",
      "Train Epoch: 6 [32000/60000 (53%)]\tLoss: 0.047823\n",
      "Train Epoch: 6 [38400/60000 (64%)]\tLoss: 0.002965\n",
      "Train Epoch: 6 [44800/60000 (75%)]\tLoss: 0.035333\n",
      "Train Epoch: 6 [51200/60000 (85%)]\tLoss: 0.179004\n",
      "Train Epoch: 6 [57600/60000 (96%)]\tLoss: 0.010691\n",
      "\n",
      "Train set: Average loss: 0.0057, Accuracy: 58837/60000 (98.1%)\n",
      "\n",
      "\n",
      "Test set: Average loss: 0.0944, Accuracy: 9713/10000 (97.130%)\n",
      "\n",
      "Train Epoch: 7 [0/60000 (0%)]\tLoss: 0.020988\n",
      "Train Epoch: 7 [6400/60000 (11%)]\tLoss: 0.019557\n",
      "Train Epoch: 7 [12800/60000 (21%)]\tLoss: 0.007470\n",
      "Train Epoch: 7 [19200/60000 (32%)]\tLoss: 0.030487\n",
      "Train Epoch: 7 [25600/60000 (43%)]\tLoss: 0.089414\n",
      "Train Epoch: 7 [32000/60000 (53%)]\tLoss: 0.049863\n",
      "Train Epoch: 7 [38400/60000 (64%)]\tLoss: 0.037388\n",
      "Train Epoch: 7 [44800/60000 (75%)]\tLoss: 0.271972\n",
      "Train Epoch: 7 [51200/60000 (85%)]\tLoss: 0.010186\n",
      "Train Epoch: 7 [57600/60000 (96%)]\tLoss: 0.031728\n",
      "\n",
      "Train set: Average loss: 0.0366, Accuracy: 58945/60000 (98.2%)\n",
      "\n",
      "\n",
      "Test set: Average loss: 0.0904, Accuracy: 9726/10000 (97.260%)\n",
      "\n",
      "Train Epoch: 8 [0/60000 (0%)]\tLoss: 0.046425\n",
      "Train Epoch: 8 [6400/60000 (11%)]\tLoss: 0.036373\n",
      "Train Epoch: 8 [12800/60000 (21%)]\tLoss: 0.017561\n",
      "Train Epoch: 8 [19200/60000 (32%)]\tLoss: 0.064088\n",
      "Train Epoch: 8 [25600/60000 (43%)]\tLoss: 0.007312\n",
      "Train Epoch: 8 [32000/60000 (53%)]\tLoss: 0.044451\n",
      "Train Epoch: 8 [38400/60000 (64%)]\tLoss: 0.043148\n",
      "Train Epoch: 8 [44800/60000 (75%)]\tLoss: 0.017154\n",
      "Train Epoch: 8 [51200/60000 (85%)]\tLoss: 0.219118\n",
      "Train Epoch: 8 [57600/60000 (96%)]\tLoss: 0.074909\n",
      "\n",
      "Train set: Average loss: 0.0338, Accuracy: 59103/60000 (98.5%)\n",
      "\n",
      "\n",
      "Test set: Average loss: 0.0792, Accuracy: 9774/10000 (97.740%)\n",
      "\n",
      "Train Epoch: 9 [0/60000 (0%)]\tLoss: 0.080575\n",
      "Train Epoch: 9 [6400/60000 (11%)]\tLoss: 0.020399\n",
      "Train Epoch: 9 [12800/60000 (21%)]\tLoss: 0.015678\n",
      "Train Epoch: 9 [19200/60000 (32%)]\tLoss: 0.005976\n",
      "Train Epoch: 9 [25600/60000 (43%)]\tLoss: 0.123981\n",
      "Train Epoch: 9 [32000/60000 (53%)]\tLoss: 0.018888\n",
      "Train Epoch: 9 [38400/60000 (64%)]\tLoss: 0.007747\n",
      "Train Epoch: 9 [44800/60000 (75%)]\tLoss: 0.003372\n",
      "Train Epoch: 9 [51200/60000 (85%)]\tLoss: 0.044113\n",
      "Train Epoch: 9 [57600/60000 (96%)]\tLoss: 0.067235\n",
      "\n",
      "Train set: Average loss: 0.0024, Accuracy: 59135/60000 (98.6%)\n",
      "\n",
      "\n",
      "Test set: Average loss: 0.0963, Accuracy: 9723/10000 (97.230%)\n",
      "\n",
      "Train Epoch: 10 [0/60000 (0%)]\tLoss: 0.022171\n",
      "Train Epoch: 10 [6400/60000 (11%)]\tLoss: 0.047916\n",
      "Train Epoch: 10 [12800/60000 (21%)]\tLoss: 0.064890\n",
      "Train Epoch: 10 [19200/60000 (32%)]\tLoss: 0.006208\n",
      "Train Epoch: 10 [25600/60000 (43%)]\tLoss: 0.078694\n",
      "Train Epoch: 10 [32000/60000 (53%)]\tLoss: 0.013279\n",
      "Train Epoch: 10 [38400/60000 (64%)]\tLoss: 0.016167\n",
      "Train Epoch: 10 [44800/60000 (75%)]\tLoss: 0.007672\n",
      "Train Epoch: 10 [51200/60000 (85%)]\tLoss: 0.035092\n",
      "Train Epoch: 10 [57600/60000 (96%)]\tLoss: 0.086563\n",
      "\n",
      "Train set: Average loss: 0.0051, Accuracy: 59210/60000 (98.7%)\n",
      "\n",
      "\n",
      "Test set: Average loss: 0.1036, Accuracy: 9709/10000 (97.090%)\n",
      "\n",
      "Training is finished.\n"
     ]
    }
   ],
   "source": [
    "#########################################################################\n",
    "#TODO: modify the parameters below to see which setting that you can get to 97%\n",
    "#########################################################################\n",
    "nLayer = 5\n",
    "nHidden = 64\n",
    "act_fn = nn.ReLU()\n",
    "\n",
    "# reinitialize the mlp, so we can play with parameters right here\n",
    "mlp = MLP(nInput, nOutput, nLayer, nHidden, act_fn)\n",
    "optimizer = optim.AdamW(mlp.parameters())\n",
    "\n",
    "epochs = 10\n",
    "for epoch in range(1, epochs + 1):\n",
    "    train(mlp, dl_train, optimizer, epoch, log_interval=100)\n",
    "    test(mlp, dl_test)\n",
    "\n",
    "print ('Training is finished.')"
   ]
  },
  {
   "cell_type": "markdown",
   "metadata": {},
   "source": [
    "Before you move on to the next exercise, you can further play with the other parameters (learning rate, epochs, a different optimizer, etc.) to get a feeling what can improve or hamper performance. "
   ]
  },
  {
   "cell_type": "markdown",
   "metadata": {},
   "source": [
    "## CNN\n",
    "Alright, we matched our prior performance. Let's surpass it! You will soon see the power of CNN by building a small one yourself. The structure should be as follows\n",
    "\n",
    "| CNN Architecture                             \t|\n",
    "|----------------------------------------------\t|\n",
    "| Conv: $C_{in}=1, C_{out}=32, K=3, S=1, P=0$  \t|\n",
    "| ReLU                                         \t|\n",
    "| Conv: $C_{in}=32, C_{out}=64, K=3, S=1, P=0$ \t|\n",
    "| ReLU                                         \t|\n",
    "| MaxPool2d: $K=2, S=2, P=0$                   \t|\n",
    "| Dropout: $p=0.25$                            \t|\n",
    "| Linear: $C_{in}=9216, C_{out}=128$           \t|\n",
    "| ReLU                                         \t|\n",
    "| Dropout: $p=0.5$                             \t|\n",
    "| Linear: $C_{in}=128, C_{out}=10$             \t|\n",
    "\n",
    "The layers you will need are: \n",
    "\n",
    "`nn.Conv2d,  nn.Linear,  nn.Dropout, nn.MaxPool2d, nn.Flatten`\n",
    "\n",
    "For layers without parameters you can alternatively use function in the forward pass:  \n",
    "\n",
    "`F.max_pool2d, torch.flatten`"
   ]
  },
  {
   "cell_type": "code",
   "execution_count": 20,
   "metadata": {},
   "outputs": [],
   "source": [
    "#########################################################################\n",
    "# TODO: Implement the __init__ and forward method of the CNN class. \n",
    "# Hint: do not forget to flatten the appropriate dimension after the convolutional blocks. \n",
    "# A linear layers expect input of the size (B, H) with batch size B and feature size H\n",
    "#########################################################################\n",
    "\n",
    "class CNN(nn.Module):\n",
    "    def __init__(self):\n",
    "        super(CNN, self).__init__()\n",
    "\n",
    "        self.conv1 = nn.Conv2d(in_channels=1, out_channels=32, kernel_size=3, stride=1, padding=0)\n",
    "        self.conv2 = nn.Conv2d(in_channels=32, out_channels=64, kernel_size=3, stride=1, padding=0)\n",
    "        self.pool = nn.MaxPool2d(kernel_size=2, stride=2, padding=0)\n",
    "        self.dropout1 = nn.Dropout(p=0.25)\n",
    "        self.fc1 = nn.Linear(9216, 128)\n",
    "        self.dropout2 = nn.Dropout(p=0.5)\n",
    "        self.fc2 = nn.Linear(128, 10)\n",
    "\n",
    "    def forward(self, x):\n",
    "        x = self.conv1(x)\n",
    "        x = F.relu(x)\n",
    "\n",
    "        x = self.conv2(x)\n",
    "        x = F.relu(x)\n",
    "        x = self.pool(x)\n",
    "\n",
    "        x = torch.flatten(x, 1)\n",
    "\n",
    "        x = self.dropout1(x)\n",
    "        x = self.fc1(x)\n",
    "        x = F.relu(x)\n",
    "\n",
    "        x = self.dropout2(x)\n",
    "        x = self.fc2(x)\n",
    "\n",
    "        return x"
   ]
  },
  {
   "cell_type": "code",
   "execution_count": 21,
   "metadata": {},
   "outputs": [
    {
     "data": {
      "text/plain": [
       "torch.Size([1, 10])"
      ]
     },
     "execution_count": 21,
     "metadata": {},
     "output_type": "execute_result"
    }
   ],
   "source": [
    "# Let's test if the forward pass works\n",
    "# this should print torch.Size([1, 10])\n",
    "t = torch.randn(1,1,28,28)\n",
    "cnn = CNN()\n",
    "cnn(t).shape"
   ]
  },
  {
   "cell_type": "markdown",
   "metadata": {},
   "source": [
    "Alright, let's train!"
   ]
  },
  {
   "cell_type": "code",
   "execution_count": 22,
   "metadata": {},
   "outputs": [],
   "source": [
    "optimizer = optim.Adam(cnn.parameters())"
   ]
  },
  {
   "cell_type": "code",
   "execution_count": 23,
   "metadata": {
    "scrolled": true
   },
   "outputs": [
    {
     "name": "stdout",
     "output_type": "stream",
     "text": [
      "Train Epoch: 1 [0/60000 (0%)]\tLoss: 2.329368\n",
      "Train Epoch: 1 [6400/60000 (11%)]\tLoss: 0.196560\n",
      "Train Epoch: 1 [12800/60000 (21%)]\tLoss: 0.172435\n",
      "Train Epoch: 1 [19200/60000 (32%)]\tLoss: 0.121416\n",
      "Train Epoch: 1 [25600/60000 (43%)]\tLoss: 0.297905\n",
      "Train Epoch: 1 [32000/60000 (53%)]\tLoss: 0.106927\n",
      "Train Epoch: 1 [38400/60000 (64%)]\tLoss: 0.022477\n",
      "Train Epoch: 1 [44800/60000 (75%)]\tLoss: 0.031384\n",
      "Train Epoch: 1 [51200/60000 (85%)]\tLoss: 0.187142\n",
      "Train Epoch: 1 [57600/60000 (96%)]\tLoss: 0.175332\n",
      "\n",
      "Train set: Average loss: 0.0840, Accuracy: 56437/60000 (94.1%)\n",
      "\n",
      "\n",
      "Test set: Average loss: 0.0430, Accuracy: 9862/10000 (98.620%)\n",
      "\n",
      "Train Epoch: 2 [0/60000 (0%)]\tLoss: 0.043933\n",
      "Train Epoch: 2 [6400/60000 (11%)]\tLoss: 0.034439\n",
      "Train Epoch: 2 [12800/60000 (21%)]\tLoss: 0.029530\n",
      "Train Epoch: 2 [19200/60000 (32%)]\tLoss: 0.171458\n",
      "Train Epoch: 2 [25600/60000 (43%)]\tLoss: 0.071029\n",
      "Train Epoch: 2 [32000/60000 (53%)]\tLoss: 0.123652\n",
      "Train Epoch: 2 [38400/60000 (64%)]\tLoss: 0.184203\n",
      "Train Epoch: 2 [44800/60000 (75%)]\tLoss: 0.088480\n",
      "Train Epoch: 2 [51200/60000 (85%)]\tLoss: 0.032406\n",
      "Train Epoch: 2 [57600/60000 (96%)]\tLoss: 0.091917\n",
      "\n",
      "Train set: Average loss: 0.0101, Accuracy: 58528/60000 (97.5%)\n",
      "\n",
      "\n",
      "Test set: Average loss: 0.0327, Accuracy: 9897/10000 (98.970%)\n",
      "\n",
      "Train Epoch: 3 [0/60000 (0%)]\tLoss: 0.046909\n",
      "Train Epoch: 3 [6400/60000 (11%)]\tLoss: 0.020881\n",
      "Train Epoch: 3 [12800/60000 (21%)]\tLoss: 0.100898\n",
      "Train Epoch: 3 [19200/60000 (32%)]\tLoss: 0.058232\n",
      "Train Epoch: 3 [25600/60000 (43%)]\tLoss: 0.043766\n",
      "Train Epoch: 3 [32000/60000 (53%)]\tLoss: 0.008136\n",
      "Train Epoch: 3 [38400/60000 (64%)]\tLoss: 0.002008\n",
      "Train Epoch: 3 [44800/60000 (75%)]\tLoss: 0.020885\n",
      "Train Epoch: 3 [51200/60000 (85%)]\tLoss: 0.062100\n",
      "Train Epoch: 3 [57600/60000 (96%)]\tLoss: 0.092540\n",
      "\n",
      "Train set: Average loss: 0.1425, Accuracy: 58828/60000 (98.0%)\n",
      "\n",
      "\n",
      "Test set: Average loss: 0.0389, Accuracy: 9880/10000 (98.800%)\n",
      "\n",
      "Train Epoch: 4 [0/60000 (0%)]\tLoss: 0.059335\n",
      "Train Epoch: 4 [6400/60000 (11%)]\tLoss: 0.094082\n",
      "Train Epoch: 4 [12800/60000 (21%)]\tLoss: 0.171460\n",
      "Train Epoch: 4 [19200/60000 (32%)]\tLoss: 0.205262\n",
      "Train Epoch: 4 [25600/60000 (43%)]\tLoss: 0.083157\n",
      "Train Epoch: 4 [32000/60000 (53%)]\tLoss: 0.120952\n",
      "Train Epoch: 4 [38400/60000 (64%)]\tLoss: 0.033030\n",
      "Train Epoch: 4 [44800/60000 (75%)]\tLoss: 0.035669\n",
      "Train Epoch: 4 [51200/60000 (85%)]\tLoss: 0.032421\n",
      "Train Epoch: 4 [57600/60000 (96%)]\tLoss: 0.021558\n",
      "\n",
      "Train set: Average loss: 0.0854, Accuracy: 59058/60000 (98.4%)\n",
      "\n",
      "\n",
      "Test set: Average loss: 0.0307, Accuracy: 9902/10000 (99.020%)\n",
      "\n",
      "Train Epoch: 5 [0/60000 (0%)]\tLoss: 0.020917\n",
      "Train Epoch: 5 [6400/60000 (11%)]\tLoss: 0.006819\n",
      "Train Epoch: 5 [12800/60000 (21%)]\tLoss: 0.097252\n",
      "Train Epoch: 5 [19200/60000 (32%)]\tLoss: 0.064699\n",
      "Train Epoch: 5 [25600/60000 (43%)]\tLoss: 0.013919\n",
      "Train Epoch: 5 [32000/60000 (53%)]\tLoss: 0.012453\n",
      "Train Epoch: 5 [38400/60000 (64%)]\tLoss: 0.020855\n",
      "Train Epoch: 5 [44800/60000 (75%)]\tLoss: 0.000681\n",
      "Train Epoch: 5 [51200/60000 (85%)]\tLoss: 0.118253\n",
      "Train Epoch: 5 [57600/60000 (96%)]\tLoss: 0.067126\n",
      "\n",
      "Train set: Average loss: 0.0330, Accuracy: 59149/60000 (98.6%)\n",
      "\n",
      "\n",
      "Test set: Average loss: 0.0314, Accuracy: 9909/10000 (99.090%)\n",
      "\n"
     ]
    }
   ],
   "source": [
    "epochs = 5\n",
    "for epoch in range(1, epochs + 1):\n",
    "    train(cnn, dl_train, optimizer, epoch, log_interval=100)\n",
    "    test(cnn, dl_test)"
   ]
  },
  {
   "cell_type": "markdown",
   "metadata": {},
   "source": [
    "This will probably take a bit longer to train, as a convolutional network is not very efficient on a CPU. The current settings should get you around **99%** accuracy. Nice! \n",
    "Again, you should try different hyperparameters and see how far you can push the performance."
   ]
  },
  {
   "cell_type": "markdown",
   "metadata": {},
   "source": [
    "### Inline Question\n",
    "\n",
    "If your model weight is randomly initalized, and no training is done as above. What accuracy do you think the model will get for a 10-class classification task in theory?\n",
    "\n",
    "**Your answer**: \n",
    "Assuming that the data is balanced, meaning the number of samples per class is equal, the model will should achieve an accuracy of 10%, as it will randomly guess one of the 10 classes. See the output of the cell below for an empirical proof."
   ]
  },
  {
   "cell_type": "code",
   "execution_count": 24,
   "metadata": {},
   "outputs": [
    {
     "name": "stdout",
     "output_type": "stream",
     "text": [
      "\n",
      "Test set: Average loss: 2.3193, Accuracy: 854/10000 (8.540%)\n",
      "\n"
     ]
    }
   ],
   "source": [
    "random_cnn = CNN()\n",
    "test(random_cnn, dl_test)"
   ]
  },
  {
   "cell_type": "markdown",
   "metadata": {},
   "source": [
    "## Training on CIFAR10\n",
    "\n",
    "Now we are going to move to something more challenging - CIFAR10. We can reuse most of the code above. Thankfully, CIFAR is also a popular dataset, so we can again make use of a PyTorch convience function."
   ]
  },
  {
   "cell_type": "code",
   "execution_count": 25,
   "metadata": {},
   "outputs": [
    {
     "name": "stdout",
     "output_type": "stream",
     "text": [
      "Files already downloaded and verified\n"
     ]
    }
   ],
   "source": [
    "ds_train = datasets.CIFAR10(root='./data', train=True, download=True)"
   ]
  },
  {
   "cell_type": "markdown",
   "metadata": {},
   "source": [
    "This dataset is not normalized yet, so we need to calculate the normalization constants."
   ]
  },
  {
   "cell_type": "code",
   "execution_count": 26,
   "metadata": {},
   "outputs": [],
   "source": [
    "ims_train = torch.tensor(ds_train.data)\n",
    "ims_train = ims_train.float() / 255."
   ]
  },
  {
   "cell_type": "code",
   "execution_count": 27,
   "metadata": {},
   "outputs": [
    {
     "data": {
      "text/plain": [
       "tensor([0.2470, 0.2435, 0.2616])"
      ]
     },
     "execution_count": 27,
     "metadata": {},
     "output_type": "execute_result"
    }
   ],
   "source": [
    "ims_train.std((0,1,2))"
   ]
  },
  {
   "cell_type": "code",
   "execution_count": 28,
   "metadata": {},
   "outputs": [],
   "source": [
    "#########################################################################\n",
    "# TODO: calculate the mean and std of CIFAR\n",
    "# hint: We want the mean and std of the channel dimension, these should\n",
    "# be 3 dimensional\n",
    "#########################################################################\n",
    "mu = ims_train.mean((0,1,2))\n",
    "std = ims_train.std((0,1,2))\n"
   ]
  },
  {
   "cell_type": "code",
   "execution_count": 29,
   "metadata": {},
   "outputs": [
    {
     "data": {
      "text/plain": [
       "tensor([0.4914, 0.4822, 0.4465])"
      ]
     },
     "execution_count": 29,
     "metadata": {},
     "output_type": "execute_result"
    }
   ],
   "source": [
    "torch.mean(ims_train, dim=(0,1,2))"
   ]
  },
  {
   "cell_type": "markdown",
   "metadata": {},
   "source": [
    "For CIFAR we want to make use of data augmentation to improve generalization. You will find all data augmentations data are included in torchvision here:\n",
    "\n",
    "https://pytorch.org/docs/stable/torchvision/transforms.html"
   ]
  },
  {
   "cell_type": "code",
   "execution_count": 30,
   "metadata": {},
   "outputs": [
    {
     "name": "stdout",
     "output_type": "stream",
     "text": [
      "Files already downloaded and verified\n",
      "Files already downloaded and verified\n"
     ]
    }
   ],
   "source": [
    "BATCH_SIZE = 128\n",
    "NUM_WORKERS = 4 # if you encounter some unexpected errors in data loading, try setting `NUM_WORKERS = 0`\n",
    "#########################################################################\n",
    "# TODO: Implement the proper transforms for the training and test dataloaders. \n",
    "# Then build train and test dataloaders with batch size 128 and 4 workers\n",
    "#\n",
    "# Train: \n",
    "# - Apply a random crop with size 32 on a padded version of the image with P=4\n",
    "# - Flip the image horizontally with a probability of 40 %\n",
    "# - Transform to a Tensor\n",
    "# - Normalize with the constants calculated above\n",
    "# Test: \n",
    "# - Transform to a Tensor\n",
    "# - Normalize with the constants calculated above\n",
    "#########################################################################\n",
    "transform_train = transforms.Compose([\n",
    "    transforms.RandomCrop(size=32, padding=4),\n",
    "    transforms.RandomHorizontalFlip(p=0.4),\n",
    "    transforms.ToTensor(),\n",
    "    transforms.Normalize(mu, std)\n",
    "])\n",
    "transform_test = transforms.Compose([\n",
    "    transforms.ToTensor(),\n",
    "    transforms.Normalize(mu, std)\n",
    "])\n",
    "\n",
    "ds_train = datasets.CIFAR10('./data', train=True, download=True, transform=transform_train)\n",
    "ds_test = datasets.CIFAR10('./data', train=False, download=True, transform=transform_test)\n",
    "\n",
    "dl_train = DataLoader(ds_train, batch_size=BATCH_SIZE, shuffle=True, num_workers=NUM_WORKERS)\n",
    "dl_test = DataLoader(ds_test, batch_size=BATCH_SIZE, shuffle=False, num_workers=NUM_WORKERS)"
   ]
  },
  {
   "cell_type": "markdown",
   "metadata": {},
   "source": [
    "Setting up the  optimizer, this time we use SGD. The scheduler adapts the learning rate during traing (you can ignore it)"
   ]
  },
  {
   "cell_type": "code",
   "execution_count": 31,
   "metadata": {},
   "outputs": [],
   "source": [
    "cnn = CNN()\n",
    "optimizer = optim.SGD(cnn.parameters(), lr=0.1, momentum=0.9, weight_decay=5e-4)\n",
    "scheduler = torch.optim.lr_scheduler.CosineAnnealingLR(optimizer, T_max=200)"
   ]
  },
  {
   "cell_type": "code",
   "execution_count": 32,
   "metadata": {
    "scrolled": true
   },
   "outputs": [
    {
     "ename": "RuntimeError",
     "evalue": "Given groups=1, weight of size [32, 1, 3, 3], expected input[128, 3, 32, 32] to have 1 channels, but got 3 channels instead",
     "output_type": "error",
     "traceback": [
      "\u001b[0;31m---------------------------------------------------------------------------\u001b[0m",
      "\u001b[0;31mRuntimeError\u001b[0m                              Traceback (most recent call last)",
      "\u001b[0;32m<ipython-input-32-ba9429f4ef5e>\u001b[0m in \u001b[0;36m<module>\u001b[0;34m\u001b[0m\n\u001b[1;32m      1\u001b[0m \u001b[0mepochs\u001b[0m \u001b[0;34m=\u001b[0m \u001b[0;36m5\u001b[0m\u001b[0;34m\u001b[0m\u001b[0;34m\u001b[0m\u001b[0m\n\u001b[1;32m      2\u001b[0m \u001b[0;32mfor\u001b[0m \u001b[0mepoch\u001b[0m \u001b[0;32min\u001b[0m \u001b[0mrange\u001b[0m\u001b[0;34m(\u001b[0m\u001b[0;36m1\u001b[0m\u001b[0;34m,\u001b[0m \u001b[0mepochs\u001b[0m \u001b[0;34m+\u001b[0m \u001b[0;36m1\u001b[0m\u001b[0;34m)\u001b[0m\u001b[0;34m:\u001b[0m\u001b[0;34m\u001b[0m\u001b[0;34m\u001b[0m\u001b[0m\n\u001b[0;32m----> 3\u001b[0;31m     \u001b[0mtrain\u001b[0m\u001b[0;34m(\u001b[0m\u001b[0mcnn\u001b[0m\u001b[0;34m,\u001b[0m \u001b[0mdl_train\u001b[0m\u001b[0;34m,\u001b[0m \u001b[0moptimizer\u001b[0m\u001b[0;34m,\u001b[0m \u001b[0mepoch\u001b[0m\u001b[0;34m,\u001b[0m \u001b[0mlog_interval\u001b[0m\u001b[0;34m=\u001b[0m\u001b[0;36m100\u001b[0m\u001b[0;34m)\u001b[0m\u001b[0;34m\u001b[0m\u001b[0;34m\u001b[0m\u001b[0m\n\u001b[0m\u001b[1;32m      4\u001b[0m     \u001b[0mtest\u001b[0m\u001b[0;34m(\u001b[0m\u001b[0mcnn\u001b[0m\u001b[0;34m,\u001b[0m \u001b[0mdl_test\u001b[0m\u001b[0;34m)\u001b[0m\u001b[0;34m\u001b[0m\u001b[0;34m\u001b[0m\u001b[0m\n\u001b[1;32m      5\u001b[0m     \u001b[0mscheduler\u001b[0m\u001b[0;34m.\u001b[0m\u001b[0mstep\u001b[0m\u001b[0;34m(\u001b[0m\u001b[0;34m)\u001b[0m\u001b[0;34m\u001b[0m\u001b[0;34m\u001b[0m\u001b[0m\n",
      "\u001b[0;32m<ipython-input-16-2a34586e159f>\u001b[0m in \u001b[0;36mtrain\u001b[0;34m(model, dl_train, optimizer, epoch, log_interval, device)\u001b[0m\n\u001b[1;32m     14\u001b[0m         \u001b[0moptimizer\u001b[0m\u001b[0;34m.\u001b[0m\u001b[0mzero_grad\u001b[0m\u001b[0;34m(\u001b[0m\u001b[0;34m)\u001b[0m\u001b[0;34m\u001b[0m\u001b[0;34m\u001b[0m\u001b[0m\n\u001b[1;32m     15\u001b[0m \u001b[0;34m\u001b[0m\u001b[0m\n\u001b[0;32m---> 16\u001b[0;31m         \u001b[0moutput\u001b[0m \u001b[0;34m=\u001b[0m \u001b[0mmodel\u001b[0m\u001b[0;34m(\u001b[0m\u001b[0mdata\u001b[0m\u001b[0;34m)\u001b[0m\u001b[0;34m\u001b[0m\u001b[0;34m\u001b[0m\u001b[0m\n\u001b[0m\u001b[1;32m     17\u001b[0m         \u001b[0mloss\u001b[0m \u001b[0;34m=\u001b[0m \u001b[0mF\u001b[0m\u001b[0;34m.\u001b[0m\u001b[0mcross_entropy\u001b[0m\u001b[0;34m(\u001b[0m\u001b[0moutput\u001b[0m\u001b[0;34m,\u001b[0m \u001b[0mtarget\u001b[0m\u001b[0;34m)\u001b[0m\u001b[0;34m\u001b[0m\u001b[0;34m\u001b[0m\u001b[0m\n\u001b[1;32m     18\u001b[0m         \u001b[0mloss\u001b[0m\u001b[0;34m.\u001b[0m\u001b[0mbackward\u001b[0m\u001b[0;34m(\u001b[0m\u001b[0;34m)\u001b[0m\u001b[0;34m\u001b[0m\u001b[0;34m\u001b[0m\u001b[0m\n",
      "\u001b[0;32m/opt/homebrew/lib/python3.9/site-packages/torch/nn/modules/module.py\u001b[0m in \u001b[0;36m_call_impl\u001b[0;34m(self, *input, **kwargs)\u001b[0m\n\u001b[1;32m   1128\u001b[0m         if not (self._backward_hooks or self._forward_hooks or self._forward_pre_hooks or _global_backward_hooks\n\u001b[1;32m   1129\u001b[0m                 or _global_forward_hooks or _global_forward_pre_hooks):\n\u001b[0;32m-> 1130\u001b[0;31m             \u001b[0;32mreturn\u001b[0m \u001b[0mforward_call\u001b[0m\u001b[0;34m(\u001b[0m\u001b[0;34m*\u001b[0m\u001b[0minput\u001b[0m\u001b[0;34m,\u001b[0m \u001b[0;34m**\u001b[0m\u001b[0mkwargs\u001b[0m\u001b[0;34m)\u001b[0m\u001b[0;34m\u001b[0m\u001b[0;34m\u001b[0m\u001b[0m\n\u001b[0m\u001b[1;32m   1131\u001b[0m         \u001b[0;31m# Do not call functions when jit is used\u001b[0m\u001b[0;34m\u001b[0m\u001b[0;34m\u001b[0m\u001b[0m\n\u001b[1;32m   1132\u001b[0m         \u001b[0mfull_backward_hooks\u001b[0m\u001b[0;34m,\u001b[0m \u001b[0mnon_full_backward_hooks\u001b[0m \u001b[0;34m=\u001b[0m \u001b[0;34m[\u001b[0m\u001b[0;34m]\u001b[0m\u001b[0;34m,\u001b[0m \u001b[0;34m[\u001b[0m\u001b[0;34m]\u001b[0m\u001b[0;34m\u001b[0m\u001b[0;34m\u001b[0m\u001b[0m\n",
      "\u001b[0;32m<ipython-input-20-c33f321c872d>\u001b[0m in \u001b[0;36mforward\u001b[0;34m(self, x)\u001b[0m\n\u001b[1;32m     18\u001b[0m \u001b[0;34m\u001b[0m\u001b[0m\n\u001b[1;32m     19\u001b[0m     \u001b[0;32mdef\u001b[0m \u001b[0mforward\u001b[0m\u001b[0;34m(\u001b[0m\u001b[0mself\u001b[0m\u001b[0;34m,\u001b[0m \u001b[0mx\u001b[0m\u001b[0;34m)\u001b[0m\u001b[0;34m:\u001b[0m\u001b[0;34m\u001b[0m\u001b[0;34m\u001b[0m\u001b[0m\n\u001b[0;32m---> 20\u001b[0;31m         \u001b[0mx\u001b[0m \u001b[0;34m=\u001b[0m \u001b[0mself\u001b[0m\u001b[0;34m.\u001b[0m\u001b[0mconv1\u001b[0m\u001b[0;34m(\u001b[0m\u001b[0mx\u001b[0m\u001b[0;34m)\u001b[0m\u001b[0;34m\u001b[0m\u001b[0;34m\u001b[0m\u001b[0m\n\u001b[0m\u001b[1;32m     21\u001b[0m         \u001b[0mx\u001b[0m \u001b[0;34m=\u001b[0m \u001b[0mF\u001b[0m\u001b[0;34m.\u001b[0m\u001b[0mrelu\u001b[0m\u001b[0;34m(\u001b[0m\u001b[0mx\u001b[0m\u001b[0;34m)\u001b[0m\u001b[0;34m\u001b[0m\u001b[0;34m\u001b[0m\u001b[0m\n\u001b[1;32m     22\u001b[0m \u001b[0;34m\u001b[0m\u001b[0m\n",
      "\u001b[0;32m/opt/homebrew/lib/python3.9/site-packages/torch/nn/modules/module.py\u001b[0m in \u001b[0;36m_call_impl\u001b[0;34m(self, *input, **kwargs)\u001b[0m\n\u001b[1;32m   1128\u001b[0m         if not (self._backward_hooks or self._forward_hooks or self._forward_pre_hooks or _global_backward_hooks\n\u001b[1;32m   1129\u001b[0m                 or _global_forward_hooks or _global_forward_pre_hooks):\n\u001b[0;32m-> 1130\u001b[0;31m             \u001b[0;32mreturn\u001b[0m \u001b[0mforward_call\u001b[0m\u001b[0;34m(\u001b[0m\u001b[0;34m*\u001b[0m\u001b[0minput\u001b[0m\u001b[0;34m,\u001b[0m \u001b[0;34m**\u001b[0m\u001b[0mkwargs\u001b[0m\u001b[0;34m)\u001b[0m\u001b[0;34m\u001b[0m\u001b[0;34m\u001b[0m\u001b[0m\n\u001b[0m\u001b[1;32m   1131\u001b[0m         \u001b[0;31m# Do not call functions when jit is used\u001b[0m\u001b[0;34m\u001b[0m\u001b[0;34m\u001b[0m\u001b[0m\n\u001b[1;32m   1132\u001b[0m         \u001b[0mfull_backward_hooks\u001b[0m\u001b[0;34m,\u001b[0m \u001b[0mnon_full_backward_hooks\u001b[0m \u001b[0;34m=\u001b[0m \u001b[0;34m[\u001b[0m\u001b[0;34m]\u001b[0m\u001b[0;34m,\u001b[0m \u001b[0;34m[\u001b[0m\u001b[0;34m]\u001b[0m\u001b[0;34m\u001b[0m\u001b[0;34m\u001b[0m\u001b[0m\n",
      "\u001b[0;32m/opt/homebrew/lib/python3.9/site-packages/torch/nn/modules/conv.py\u001b[0m in \u001b[0;36mforward\u001b[0;34m(self, input)\u001b[0m\n\u001b[1;32m    455\u001b[0m \u001b[0;34m\u001b[0m\u001b[0m\n\u001b[1;32m    456\u001b[0m     \u001b[0;32mdef\u001b[0m \u001b[0mforward\u001b[0m\u001b[0;34m(\u001b[0m\u001b[0mself\u001b[0m\u001b[0;34m,\u001b[0m \u001b[0minput\u001b[0m\u001b[0;34m:\u001b[0m \u001b[0mTensor\u001b[0m\u001b[0;34m)\u001b[0m \u001b[0;34m->\u001b[0m \u001b[0mTensor\u001b[0m\u001b[0;34m:\u001b[0m\u001b[0;34m\u001b[0m\u001b[0;34m\u001b[0m\u001b[0m\n\u001b[0;32m--> 457\u001b[0;31m         \u001b[0;32mreturn\u001b[0m \u001b[0mself\u001b[0m\u001b[0;34m.\u001b[0m\u001b[0m_conv_forward\u001b[0m\u001b[0;34m(\u001b[0m\u001b[0minput\u001b[0m\u001b[0;34m,\u001b[0m \u001b[0mself\u001b[0m\u001b[0;34m.\u001b[0m\u001b[0mweight\u001b[0m\u001b[0;34m,\u001b[0m \u001b[0mself\u001b[0m\u001b[0;34m.\u001b[0m\u001b[0mbias\u001b[0m\u001b[0;34m)\u001b[0m\u001b[0;34m\u001b[0m\u001b[0;34m\u001b[0m\u001b[0m\n\u001b[0m\u001b[1;32m    458\u001b[0m \u001b[0;34m\u001b[0m\u001b[0m\n\u001b[1;32m    459\u001b[0m \u001b[0;32mclass\u001b[0m \u001b[0mConv3d\u001b[0m\u001b[0;34m(\u001b[0m\u001b[0m_ConvNd\u001b[0m\u001b[0;34m)\u001b[0m\u001b[0;34m:\u001b[0m\u001b[0;34m\u001b[0m\u001b[0;34m\u001b[0m\u001b[0m\n",
      "\u001b[0;32m/opt/homebrew/lib/python3.9/site-packages/torch/nn/modules/conv.py\u001b[0m in \u001b[0;36m_conv_forward\u001b[0;34m(self, input, weight, bias)\u001b[0m\n\u001b[1;32m    451\u001b[0m                             \u001b[0mweight\u001b[0m\u001b[0;34m,\u001b[0m \u001b[0mbias\u001b[0m\u001b[0;34m,\u001b[0m \u001b[0mself\u001b[0m\u001b[0;34m.\u001b[0m\u001b[0mstride\u001b[0m\u001b[0;34m,\u001b[0m\u001b[0;34m\u001b[0m\u001b[0;34m\u001b[0m\u001b[0m\n\u001b[1;32m    452\u001b[0m                             _pair(0), self.dilation, self.groups)\n\u001b[0;32m--> 453\u001b[0;31m         return F.conv2d(input, weight, bias, self.stride,\n\u001b[0m\u001b[1;32m    454\u001b[0m                         self.padding, self.dilation, self.groups)\n\u001b[1;32m    455\u001b[0m \u001b[0;34m\u001b[0m\u001b[0m\n",
      "\u001b[0;31mRuntimeError\u001b[0m: Given groups=1, weight of size [32, 1, 3, 3], expected input[128, 3, 32, 32] to have 1 channels, but got 3 channels instead"
     ]
    }
   ],
   "source": [
    "epochs = 5\n",
    "for epoch in range(1, epochs + 1):\n",
    "    train(cnn, dl_train, optimizer, epoch, log_interval=100)\n",
    "    test(cnn, dl_test)    \n",
    "    scheduler.step()"
   ]
  },
  {
   "cell_type": "markdown",
   "metadata": {},
   "source": [
    "This will not work. You should see the following error message\n",
    "\n",
    "```\n",
    "Given groups=1, weight of size [32, 1, 3, 3], expected input[128, 3, 32, 32] to have 1 channels, but got 3 channels instead\n",
    "```\n",
    "\n",
    "This error is telling us that something is not right in the definition of our model. Copy the CNN class from above and make changes, so the training works."
   ]
  },
  {
   "cell_type": "code",
   "execution_count": 33,
   "metadata": {},
   "outputs": [
    {
     "data": {
      "text/plain": [
       "torch.Size([32, 3])"
      ]
     },
     "execution_count": 33,
     "metadata": {},
     "output_type": "execute_result"
    }
   ],
   "source": [
    "ims_train[0][0].shape"
   ]
  },
  {
   "cell_type": "code",
   "execution_count": 34,
   "metadata": {},
   "outputs": [],
   "source": [
    "#########################################################################\n",
    "# TODO: Adapt the definition from the CNN class above to work on CIFAR.\n",
    "# You can copy and run the following prompt for evaluation:\n",
    "# CNN()(torch.randn(1,3,32,32)).shape\n",
    "# It should print 'torch.Size([1, 10])'\n",
    "# Hint: You need to change 2 things. \n",
    "#########################################################################\n",
    "\n",
    "class CNN(nn.Module):\n",
    "    def __init__(self):\n",
    "        super(CNN, self).__init__()\n",
    "        self.conv1 = nn.Conv2d(in_channels=3, out_channels=32, kernel_size=3, stride=1, padding=0)\n",
    "        self.conv2 = nn.Conv2d(in_channels=32, out_channels=64, kernel_size=3, stride=1, padding=0)\n",
    "        self.pool = nn.MaxPool2d(kernel_size=2, stride=2, padding=0)\n",
    "        self.dropout1 = nn.Dropout(p=0.25)\n",
    "        self.fc1 = nn.Linear(12544, 128)\n",
    "        self.dropout2 = nn.Dropout(p=0.5)\n",
    "        self.fc2 = nn.Linear(128, 10)\n",
    "\n",
    "    def forward(self, x):\n",
    "        x = self.conv1(x)\n",
    "        x = F.relu(x)\n",
    "\n",
    "        x = self.conv2(x)\n",
    "        x = F.relu(x)\n",
    "        x = self.pool(x)\n",
    "\n",
    "        x = torch.flatten(x, 1)\n",
    "\n",
    "        x = self.dropout1(x)\n",
    "        x = self.fc1(x)\n",
    "        x = F.relu(x)\n",
    "\n",
    "        x = self.dropout2(x)\n",
    "        x = self.fc2(x)\n",
    "\n",
    "        return x"
   ]
  },
  {
   "cell_type": "markdown",
   "metadata": {},
   "source": [
    "Let's try again"
   ]
  },
  {
   "cell_type": "code",
   "execution_count": 35,
   "metadata": {
    "scrolled": true
   },
   "outputs": [
    {
     "name": "stdout",
     "output_type": "stream",
     "text": [
      "Train Epoch: 1 [0/50000 (0%)]\tLoss: 2.317104\n",
      "Train Epoch: 1 [12800/50000 (26%)]\tLoss: 2.122774\n",
      "Train Epoch: 1 [25600/50000 (51%)]\tLoss: 2.049349\n",
      "Train Epoch: 1 [38400/50000 (77%)]\tLoss: 2.213974\n",
      "\n",
      "Train set: Average loss: 2.0509, Accuracy: 12035/50000 (24.1%)\n",
      "\n",
      "\n",
      "Test set: Average loss: 1.8020, Accuracy: 3312/10000 (33.120%)\n",
      "\n",
      "Train Epoch: 2 [0/50000 (0%)]\tLoss: 1.791949\n",
      "Train Epoch: 2 [12800/50000 (26%)]\tLoss: 1.881349\n",
      "Train Epoch: 2 [25600/50000 (51%)]\tLoss: 1.746237\n",
      "Train Epoch: 2 [38400/50000 (77%)]\tLoss: 1.879858\n",
      "\n",
      "Train set: Average loss: 1.6834, Accuracy: 15183/50000 (30.4%)\n",
      "\n",
      "\n",
      "Test set: Average loss: 1.6756, Accuracy: 3908/10000 (39.080%)\n",
      "\n",
      "Train Epoch: 3 [0/50000 (0%)]\tLoss: 1.743658\n",
      "Train Epoch: 3 [12800/50000 (26%)]\tLoss: 1.805200\n",
      "Train Epoch: 3 [25600/50000 (51%)]\tLoss: 1.878831\n",
      "Train Epoch: 3 [38400/50000 (77%)]\tLoss: 1.835097\n",
      "\n",
      "Train set: Average loss: 1.6266, Accuracy: 16404/50000 (32.8%)\n",
      "\n",
      "\n",
      "Test set: Average loss: 1.6002, Accuracy: 4249/10000 (42.490%)\n",
      "\n",
      "Train Epoch: 4 [0/50000 (0%)]\tLoss: 1.794022\n",
      "Train Epoch: 4 [12800/50000 (26%)]\tLoss: 1.643082\n",
      "Train Epoch: 4 [25600/50000 (51%)]\tLoss: 1.777959\n",
      "Train Epoch: 4 [38400/50000 (77%)]\tLoss: 1.845921\n",
      "\n",
      "Train set: Average loss: 1.7639, Accuracy: 17558/50000 (35.1%)\n",
      "\n",
      "\n",
      "Test set: Average loss: 1.5849, Accuracy: 4236/10000 (42.360%)\n",
      "\n",
      "Train Epoch: 5 [0/50000 (0%)]\tLoss: 1.830354\n",
      "Train Epoch: 5 [12800/50000 (26%)]\tLoss: 1.838078\n",
      "Train Epoch: 5 [25600/50000 (51%)]\tLoss: 1.775121\n",
      "Train Epoch: 5 [38400/50000 (77%)]\tLoss: 1.715372\n",
      "\n",
      "Train set: Average loss: 1.8241, Accuracy: 17801/50000 (35.6%)\n",
      "\n",
      "\n",
      "Test set: Average loss: 1.6638, Accuracy: 3928/10000 (39.280%)\n",
      "\n",
      "Train Epoch: 6 [0/50000 (0%)]\tLoss: 1.748896\n",
      "Train Epoch: 6 [12800/50000 (26%)]\tLoss: 1.684201\n",
      "Train Epoch: 6 [25600/50000 (51%)]\tLoss: 2.302166\n",
      "Train Epoch: 6 [38400/50000 (77%)]\tLoss: 2.296064\n",
      "\n",
      "Train set: Average loss: 2.3056, Accuracy: 8917/50000 (17.8%)\n",
      "\n",
      "\n",
      "Test set: Average loss: 2.3034, Accuracy: 1000/10000 (10.000%)\n",
      "\n",
      "Train Epoch: 7 [0/50000 (0%)]\tLoss: 2.305377\n",
      "Train Epoch: 7 [12800/50000 (26%)]\tLoss: 2.299471\n",
      "Train Epoch: 7 [25600/50000 (51%)]\tLoss: 2.304695\n",
      "Train Epoch: 7 [38400/50000 (77%)]\tLoss: 2.301014\n",
      "\n",
      "Train set: Average loss: 2.3039, Accuracy: 4960/50000 (9.9%)\n",
      "\n",
      "\n",
      "Test set: Average loss: 2.3045, Accuracy: 1000/10000 (10.000%)\n",
      "\n",
      "Train Epoch: 8 [0/50000 (0%)]\tLoss: 2.303519\n",
      "Train Epoch: 8 [12800/50000 (26%)]\tLoss: 2.308107\n",
      "Train Epoch: 8 [25600/50000 (51%)]\tLoss: 2.303921\n",
      "Train Epoch: 8 [38400/50000 (77%)]\tLoss: 2.302843\n",
      "\n",
      "Train set: Average loss: 2.2984, Accuracy: 5007/50000 (10.0%)\n",
      "\n",
      "\n",
      "Test set: Average loss: 2.3034, Accuracy: 1000/10000 (10.000%)\n",
      "\n",
      "Train Epoch: 9 [0/50000 (0%)]\tLoss: 2.307919\n",
      "Train Epoch: 9 [12800/50000 (26%)]\tLoss: 2.304407\n",
      "Train Epoch: 9 [25600/50000 (51%)]\tLoss: 2.310515\n",
      "Train Epoch: 9 [38400/50000 (77%)]\tLoss: 2.303260\n",
      "\n",
      "Train set: Average loss: 2.2938, Accuracy: 5039/50000 (10.1%)\n",
      "\n",
      "\n",
      "Test set: Average loss: 2.3052, Accuracy: 1000/10000 (10.000%)\n",
      "\n",
      "Train Epoch: 10 [0/50000 (0%)]\tLoss: 2.302781\n",
      "Train Epoch: 10 [12800/50000 (26%)]\tLoss: 2.302822\n",
      "Train Epoch: 10 [25600/50000 (51%)]\tLoss: 2.309018\n",
      "Train Epoch: 10 [38400/50000 (77%)]\tLoss: 2.303997\n",
      "\n",
      "Train set: Average loss: 2.2997, Accuracy: 5058/50000 (10.1%)\n",
      "\n",
      "\n",
      "Test set: Average loss: 2.3029, Accuracy: 1000/10000 (10.000%)\n",
      "\n"
     ]
    }
   ],
   "source": [
    "cnn = CNN()\n",
    "optimizer = optim.SGD(cnn.parameters(), lr=0.1, momentum=0.9, weight_decay=5e-4)\n",
    "scheduler = torch.optim.lr_scheduler.CosineAnnealingLR(optimizer, T_max=200)\n",
    "\n",
    "epochs = 10\n",
    "for epoch in range(1, epochs + 1):\n",
    "    train(cnn, dl_train, optimizer, epoch, log_interval=100)\n",
    "    test(cnn, dl_test)    \n",
    "    scheduler.step()"
   ]
  },
  {
   "cell_type": "markdown",
   "metadata": {},
   "source": [
    "This should give 40 - 50 % - and if you are not already on Colab it will give you a stressed out laptop. The performance is a lot better than random, but we can definitely do better."
   ]
  },
  {
   "cell_type": "markdown",
   "metadata": {},
   "source": [
    "### Have fun with GPUs\n",
    "You can already call it a day until this point because we won't grade the rest of the excecise. You can have more fun with the rest :)\n"
   ]
  },
  {
   "cell_type": "markdown",
   "metadata": {},
   "source": [
    "\n",
    "If you didn't already, move to colab. To use a GPU, follow on the collaboratory menu tabs, \"Runtime\" => \"Change runtime type\" and set it to GPU. Then run the same training loop but now on GPU. \n",
    "\n",
    "It as easy as:"
   ]
  },
  {
   "cell_type": "code",
   "execution_count": 36,
   "metadata": {},
   "outputs": [
    {
     "ename": "AssertionError",
     "evalue": "Torch not compiled with CUDA enabled",
     "output_type": "error",
     "traceback": [
      "\u001b[0;31m---------------------------------------------------------------------------\u001b[0m",
      "\u001b[0;31mAssertionError\u001b[0m                            Traceback (most recent call last)",
      "\u001b[0;32m<ipython-input-36-fba9960f8b52>\u001b[0m in \u001b[0;36m<module>\u001b[0;34m\u001b[0m\n\u001b[1;32m      5\u001b[0m \u001b[0moptimizer\u001b[0m \u001b[0;34m=\u001b[0m \u001b[0moptim\u001b[0m\u001b[0;34m.\u001b[0m\u001b[0mSGD\u001b[0m\u001b[0;34m(\u001b[0m\u001b[0mcnn\u001b[0m\u001b[0;34m.\u001b[0m\u001b[0mparameters\u001b[0m\u001b[0;34m(\u001b[0m\u001b[0;34m)\u001b[0m\u001b[0;34m,\u001b[0m \u001b[0mlr\u001b[0m\u001b[0;34m=\u001b[0m\u001b[0;36m0.1\u001b[0m\u001b[0;34m,\u001b[0m \u001b[0mmomentum\u001b[0m\u001b[0;34m=\u001b[0m\u001b[0;36m0.9\u001b[0m\u001b[0;34m,\u001b[0m \u001b[0mweight_decay\u001b[0m\u001b[0;34m=\u001b[0m\u001b[0;36m5e-4\u001b[0m\u001b[0;34m)\u001b[0m\u001b[0;34m\u001b[0m\u001b[0;34m\u001b[0m\u001b[0m\n\u001b[1;32m      6\u001b[0m \u001b[0mscheduler\u001b[0m \u001b[0;34m=\u001b[0m \u001b[0mtorch\u001b[0m\u001b[0;34m.\u001b[0m\u001b[0moptim\u001b[0m\u001b[0;34m.\u001b[0m\u001b[0mlr_scheduler\u001b[0m\u001b[0;34m.\u001b[0m\u001b[0mCosineAnnealingLR\u001b[0m\u001b[0;34m(\u001b[0m\u001b[0moptimizer\u001b[0m\u001b[0;34m,\u001b[0m \u001b[0mT_max\u001b[0m\u001b[0;34m=\u001b[0m\u001b[0;36m200\u001b[0m\u001b[0;34m)\u001b[0m\u001b[0;34m\u001b[0m\u001b[0;34m\u001b[0m\u001b[0m\n\u001b[0;32m----> 7\u001b[0;31m \u001b[0mcnn\u001b[0m \u001b[0;34m=\u001b[0m \u001b[0mcnn\u001b[0m\u001b[0;34m.\u001b[0m\u001b[0mto\u001b[0m\u001b[0;34m(\u001b[0m\u001b[0mdevice\u001b[0m\u001b[0;34m)\u001b[0m\u001b[0;34m\u001b[0m\u001b[0;34m\u001b[0m\u001b[0m\n\u001b[0m\u001b[1;32m      8\u001b[0m \u001b[0;34m\u001b[0m\u001b[0m\n\u001b[1;32m      9\u001b[0m \u001b[0mepochs\u001b[0m \u001b[0;34m=\u001b[0m \u001b[0;36m10\u001b[0m\u001b[0;34m\u001b[0m\u001b[0;34m\u001b[0m\u001b[0m\n",
      "\u001b[0;32m/opt/homebrew/lib/python3.9/site-packages/torch/nn/modules/module.py\u001b[0m in \u001b[0;36mto\u001b[0;34m(self, *args, **kwargs)\u001b[0m\n\u001b[1;32m    925\u001b[0m             \u001b[0;32mreturn\u001b[0m \u001b[0mt\u001b[0m\u001b[0;34m.\u001b[0m\u001b[0mto\u001b[0m\u001b[0;34m(\u001b[0m\u001b[0mdevice\u001b[0m\u001b[0;34m,\u001b[0m \u001b[0mdtype\u001b[0m \u001b[0;32mif\u001b[0m \u001b[0mt\u001b[0m\u001b[0;34m.\u001b[0m\u001b[0mis_floating_point\u001b[0m\u001b[0;34m(\u001b[0m\u001b[0;34m)\u001b[0m \u001b[0;32mor\u001b[0m \u001b[0mt\u001b[0m\u001b[0;34m.\u001b[0m\u001b[0mis_complex\u001b[0m\u001b[0;34m(\u001b[0m\u001b[0;34m)\u001b[0m \u001b[0;32melse\u001b[0m \u001b[0;32mNone\u001b[0m\u001b[0;34m,\u001b[0m \u001b[0mnon_blocking\u001b[0m\u001b[0;34m)\u001b[0m\u001b[0;34m\u001b[0m\u001b[0;34m\u001b[0m\u001b[0m\n\u001b[1;32m    926\u001b[0m \u001b[0;34m\u001b[0m\u001b[0m\n\u001b[0;32m--> 927\u001b[0;31m         \u001b[0;32mreturn\u001b[0m \u001b[0mself\u001b[0m\u001b[0;34m.\u001b[0m\u001b[0m_apply\u001b[0m\u001b[0;34m(\u001b[0m\u001b[0mconvert\u001b[0m\u001b[0;34m)\u001b[0m\u001b[0;34m\u001b[0m\u001b[0;34m\u001b[0m\u001b[0m\n\u001b[0m\u001b[1;32m    928\u001b[0m \u001b[0;34m\u001b[0m\u001b[0m\n\u001b[1;32m    929\u001b[0m     def register_backward_hook(\n",
      "\u001b[0;32m/opt/homebrew/lib/python3.9/site-packages/torch/nn/modules/module.py\u001b[0m in \u001b[0;36m_apply\u001b[0;34m(self, fn)\u001b[0m\n\u001b[1;32m    577\u001b[0m     \u001b[0;32mdef\u001b[0m \u001b[0m_apply\u001b[0m\u001b[0;34m(\u001b[0m\u001b[0mself\u001b[0m\u001b[0;34m,\u001b[0m \u001b[0mfn\u001b[0m\u001b[0;34m)\u001b[0m\u001b[0;34m:\u001b[0m\u001b[0;34m\u001b[0m\u001b[0;34m\u001b[0m\u001b[0m\n\u001b[1;32m    578\u001b[0m         \u001b[0;32mfor\u001b[0m \u001b[0mmodule\u001b[0m \u001b[0;32min\u001b[0m \u001b[0mself\u001b[0m\u001b[0;34m.\u001b[0m\u001b[0mchildren\u001b[0m\u001b[0;34m(\u001b[0m\u001b[0;34m)\u001b[0m\u001b[0;34m:\u001b[0m\u001b[0;34m\u001b[0m\u001b[0;34m\u001b[0m\u001b[0m\n\u001b[0;32m--> 579\u001b[0;31m             \u001b[0mmodule\u001b[0m\u001b[0;34m.\u001b[0m\u001b[0m_apply\u001b[0m\u001b[0;34m(\u001b[0m\u001b[0mfn\u001b[0m\u001b[0;34m)\u001b[0m\u001b[0;34m\u001b[0m\u001b[0;34m\u001b[0m\u001b[0m\n\u001b[0m\u001b[1;32m    580\u001b[0m \u001b[0;34m\u001b[0m\u001b[0m\n\u001b[1;32m    581\u001b[0m         \u001b[0;32mdef\u001b[0m \u001b[0mcompute_should_use_set_data\u001b[0m\u001b[0;34m(\u001b[0m\u001b[0mtensor\u001b[0m\u001b[0;34m,\u001b[0m \u001b[0mtensor_applied\u001b[0m\u001b[0;34m)\u001b[0m\u001b[0;34m:\u001b[0m\u001b[0;34m\u001b[0m\u001b[0;34m\u001b[0m\u001b[0m\n",
      "\u001b[0;32m/opt/homebrew/lib/python3.9/site-packages/torch/nn/modules/module.py\u001b[0m in \u001b[0;36m_apply\u001b[0;34m(self, fn)\u001b[0m\n\u001b[1;32m    600\u001b[0m             \u001b[0;31m# `with torch.no_grad():`\u001b[0m\u001b[0;34m\u001b[0m\u001b[0;34m\u001b[0m\u001b[0m\n\u001b[1;32m    601\u001b[0m             \u001b[0;32mwith\u001b[0m \u001b[0mtorch\u001b[0m\u001b[0;34m.\u001b[0m\u001b[0mno_grad\u001b[0m\u001b[0;34m(\u001b[0m\u001b[0;34m)\u001b[0m\u001b[0;34m:\u001b[0m\u001b[0;34m\u001b[0m\u001b[0;34m\u001b[0m\u001b[0m\n\u001b[0;32m--> 602\u001b[0;31m                 \u001b[0mparam_applied\u001b[0m \u001b[0;34m=\u001b[0m \u001b[0mfn\u001b[0m\u001b[0;34m(\u001b[0m\u001b[0mparam\u001b[0m\u001b[0;34m)\u001b[0m\u001b[0;34m\u001b[0m\u001b[0;34m\u001b[0m\u001b[0m\n\u001b[0m\u001b[1;32m    603\u001b[0m             \u001b[0mshould_use_set_data\u001b[0m \u001b[0;34m=\u001b[0m \u001b[0mcompute_should_use_set_data\u001b[0m\u001b[0;34m(\u001b[0m\u001b[0mparam\u001b[0m\u001b[0;34m,\u001b[0m \u001b[0mparam_applied\u001b[0m\u001b[0;34m)\u001b[0m\u001b[0;34m\u001b[0m\u001b[0;34m\u001b[0m\u001b[0m\n\u001b[1;32m    604\u001b[0m             \u001b[0;32mif\u001b[0m \u001b[0mshould_use_set_data\u001b[0m\u001b[0;34m:\u001b[0m\u001b[0;34m\u001b[0m\u001b[0;34m\u001b[0m\u001b[0m\n",
      "\u001b[0;32m/opt/homebrew/lib/python3.9/site-packages/torch/nn/modules/module.py\u001b[0m in \u001b[0;36mconvert\u001b[0;34m(t)\u001b[0m\n\u001b[1;32m    923\u001b[0m                 return t.to(device, dtype if t.is_floating_point() or t.is_complex() else None,\n\u001b[1;32m    924\u001b[0m                             non_blocking, memory_format=convert_to_format)\n\u001b[0;32m--> 925\u001b[0;31m             \u001b[0;32mreturn\u001b[0m \u001b[0mt\u001b[0m\u001b[0;34m.\u001b[0m\u001b[0mto\u001b[0m\u001b[0;34m(\u001b[0m\u001b[0mdevice\u001b[0m\u001b[0;34m,\u001b[0m \u001b[0mdtype\u001b[0m \u001b[0;32mif\u001b[0m \u001b[0mt\u001b[0m\u001b[0;34m.\u001b[0m\u001b[0mis_floating_point\u001b[0m\u001b[0;34m(\u001b[0m\u001b[0;34m)\u001b[0m \u001b[0;32mor\u001b[0m \u001b[0mt\u001b[0m\u001b[0;34m.\u001b[0m\u001b[0mis_complex\u001b[0m\u001b[0;34m(\u001b[0m\u001b[0;34m)\u001b[0m \u001b[0;32melse\u001b[0m \u001b[0;32mNone\u001b[0m\u001b[0;34m,\u001b[0m \u001b[0mnon_blocking\u001b[0m\u001b[0;34m)\u001b[0m\u001b[0;34m\u001b[0m\u001b[0;34m\u001b[0m\u001b[0m\n\u001b[0m\u001b[1;32m    926\u001b[0m \u001b[0;34m\u001b[0m\u001b[0m\n\u001b[1;32m    927\u001b[0m         \u001b[0;32mreturn\u001b[0m \u001b[0mself\u001b[0m\u001b[0;34m.\u001b[0m\u001b[0m_apply\u001b[0m\u001b[0;34m(\u001b[0m\u001b[0mconvert\u001b[0m\u001b[0;34m)\u001b[0m\u001b[0;34m\u001b[0m\u001b[0;34m\u001b[0m\u001b[0m\n",
      "\u001b[0;32m/opt/homebrew/lib/python3.9/site-packages/torch/cuda/__init__.py\u001b[0m in \u001b[0;36m_lazy_init\u001b[0;34m()\u001b[0m\n\u001b[1;32m    209\u001b[0m                 \"multiprocessing, you must use the 'spawn' start method\")\n\u001b[1;32m    210\u001b[0m         \u001b[0;32mif\u001b[0m \u001b[0;32mnot\u001b[0m \u001b[0mhasattr\u001b[0m\u001b[0;34m(\u001b[0m\u001b[0mtorch\u001b[0m\u001b[0;34m.\u001b[0m\u001b[0m_C\u001b[0m\u001b[0;34m,\u001b[0m \u001b[0;34m'_cuda_getDeviceCount'\u001b[0m\u001b[0;34m)\u001b[0m\u001b[0;34m:\u001b[0m\u001b[0;34m\u001b[0m\u001b[0;34m\u001b[0m\u001b[0m\n\u001b[0;32m--> 211\u001b[0;31m             \u001b[0;32mraise\u001b[0m \u001b[0mAssertionError\u001b[0m\u001b[0;34m(\u001b[0m\u001b[0;34m\"Torch not compiled with CUDA enabled\"\u001b[0m\u001b[0;34m)\u001b[0m\u001b[0;34m\u001b[0m\u001b[0;34m\u001b[0m\u001b[0m\n\u001b[0m\u001b[1;32m    212\u001b[0m         \u001b[0;32mif\u001b[0m \u001b[0m_cudart\u001b[0m \u001b[0;32mis\u001b[0m \u001b[0;32mNone\u001b[0m\u001b[0;34m:\u001b[0m\u001b[0;34m\u001b[0m\u001b[0;34m\u001b[0m\u001b[0m\n\u001b[1;32m    213\u001b[0m             raise AssertionError(\n",
      "\u001b[0;31mAssertionError\u001b[0m: Torch not compiled with CUDA enabled"
     ]
    }
   ],
   "source": [
    "device = 'cuda'\n",
    "if device == 'cuda': torch.backends.cudnn.benchmark = True # additional speed up\n",
    "\n",
    "cnn = CNN()\n",
    "optimizer = optim.SGD(cnn.parameters(), lr=0.1, momentum=0.9, weight_decay=5e-4)\n",
    "scheduler = torch.optim.lr_scheduler.CosineAnnealingLR(optimizer, T_max=200)\n",
    "cnn = cnn.to(device)\n",
    "\n",
    "epochs = 10\n",
    "for epoch in range(1, epochs + 1):\n",
    "    train(cnn, dl_train, optimizer, epoch, log_interval=100, device=device)\n",
    "    test(cnn, dl_test, device=device)    \n",
    "    scheduler.step()"
   ]
  },
  {
   "cell_type": "markdown",
   "metadata": {},
   "source": [
    "This should be way faster now. But the true advantage of the GPU is that we can use much bigger models now and still train them in a reasonable amount of time. PyTorch is again very handy. The torchvision library comes with varies state-of-the-art model architectures, some of which you have seen in the lecture."
   ]
  },
  {
   "cell_type": "code",
   "execution_count": null,
   "metadata": {},
   "outputs": [],
   "source": [
    "from torchvision.models import resnet18"
   ]
  },
  {
   "cell_type": "code",
   "execution_count": null,
   "metadata": {
    "scrolled": true
   },
   "outputs": [],
   "source": [
    "cnn = resnet18()\n",
    "print(cnn)"
   ]
  },
  {
   "cell_type": "markdown",
   "metadata": {},
   "source": [
    "Looks scary! But the only thing you need to change to make it work on CIFAR is the last layer.\n",
    "Currently the last layer is:\n",
    "```\n",
    "  (fc): Linear(in_features=512, out_features=1000, bias=True)\n",
    "```\n",
    "out_features is the number of classes. This models are developed for Imagenet, a dataset with 1000 classes. So this part of the model you need to adapt. Additionally, you need to add a log-softmax layer again, as we us negative log-likelihood as the training criterion. "
   ]
  },
  {
   "cell_type": "code",
   "execution_count": null,
   "metadata": {},
   "outputs": [],
   "source": [
    "#########################################################################\n",
    "# TODO: Adapt the Resnet to work on CIFAR\n",
    "#########################################################################\n"
   ]
  },
  {
   "cell_type": "code",
   "execution_count": null,
   "metadata": {},
   "outputs": [],
   "source": [
    "# This should print 'torch.Size([16, 10])'\n",
    "cnn(torch.randn(16,3,32,32)).shape"
   ]
  },
  {
   "cell_type": "code",
   "execution_count": null,
   "metadata": {},
   "outputs": [],
   "source": [
    "device = 'cuda'\n",
    "if device == 'cuda': torch.backends.cudnn.benchmark = True # this gives us additional speed up\n",
    "\n",
    "optimizer = optim.SGD(cnn.parameters(), lr=0.1, momentum=0.9, weight_decay=5e-4)\n",
    "scheduler = torch.optim.lr_scheduler.CosineAnnealingLR(optimizer, T_max=200)\n",
    "cnn = cnn.to(device)\n",
    "\n",
    "epochs = 50\n",
    "for epoch in range(1, epochs + 1):\n",
    "    train(cnn, dl_train, optimizer, epoch, log_interval=100, device=device)\n",
    "    test(cnn, dl_test, device=device)    \n",
    "    scheduler.step()"
   ]
  },
  {
   "cell_type": "markdown",
   "metadata": {},
   "source": [
    "This should get us well above 75%, the best we got was ~ 80%.\n",
    "\n",
    "Now, use different torchvision architectures, different optimizers (Adam is always a good choice), data augmentation techniques, and hyperparameter search to achieve a test accuracy of >90 %"
   ]
  }
 ],
 "metadata": {
  "kernelspec": {
   "display_name": "Python 3.9.12 ('base')",
   "language": "python",
   "name": "python3"
  },
  "language_info": {
   "codemirror_mode": {
    "name": "ipython",
    "version": 3
   },
   "file_extension": ".py",
   "mimetype": "text/x-python",
   "name": "python",
   "nbconvert_exporter": "python",
   "pygments_lexer": "ipython3",
   "version": "3.9.16"
  },
  "vscode": {
   "interpreter": {
    "hash": "d268b61a0efacafa8645774cb6d0204c9f01d7563ef03f7672146d044e8f345c"
   }
  }
 },
 "nbformat": 4,
 "nbformat_minor": 4
}
